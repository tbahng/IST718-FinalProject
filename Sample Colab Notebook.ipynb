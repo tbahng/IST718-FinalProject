{
  "nbformat": 4,
  "nbformat_minor": 0,
  "metadata": {
    "colab": {
      "name": "Sample Colab Notebook.ipynb",
      "provenance": [],
      "collapsed_sections": [],
      "authorship_tag": "ABX9TyNITT/3Nmad/HBqGVL5QBl5",
      "include_colab_link": true
    },
    "kernelspec": {
      "name": "python3",
      "display_name": "Python 3"
    }
  },
  "cells": [
    {
      "cell_type": "markdown",
      "metadata": {
        "id": "view-in-github",
        "colab_type": "text"
      },
      "source": [
        "<a href=\"https://colab.research.google.com/github/tbahng/IST718-FinalProject/blob/master/Sample%20Colab%20Notebook.ipynb\" target=\"_parent\"><img src=\"https://colab.research.google.com/assets/colab-badge.svg\" alt=\"Open In Colab\"/></a>"
      ]
    },
    {
      "cell_type": "markdown",
      "metadata": {
        "id": "niZdRAPRwoQN",
        "colab_type": "text"
      },
      "source": [
        "# Sample Colab Notebook"
      ]
    },
    {
      "cell_type": "markdown",
      "metadata": {
        "id": "uEb1-j4fw1iU",
        "colab_type": "text"
      },
      "source": [
        "## Mount Google Drive to Access Files"
      ]
    },
    {
      "cell_type": "code",
      "metadata": {
        "id": "QOfhshU0vlwN",
        "colab_type": "code",
        "colab": {
          "base_uri": "https://localhost:8080/",
          "height": 126
        },
        "outputId": "65e3e174-ddd9-4ada-d19b-11721ef0f526"
      },
      "source": [
        "from google.colab import drive\n",
        "drive.mount('/content/drive')"
      ],
      "execution_count": null,
      "outputs": [
        {
          "output_type": "stream",
          "text": [
            "Go to this URL in a browser: https://accounts.google.com/o/oauth2/auth?client_id=947318989803-6bn6qk8qdgf4n4g3pfee6491hc0brc4i.apps.googleusercontent.com&redirect_uri=urn%3aietf%3awg%3aoauth%3a2.0%3aoob&response_type=code&scope=email%20https%3a%2f%2fwww.googleapis.com%2fauth%2fdocs.test%20https%3a%2f%2fwww.googleapis.com%2fauth%2fdrive%20https%3a%2f%2fwww.googleapis.com%2fauth%2fdrive.photos.readonly%20https%3a%2f%2fwww.googleapis.com%2fauth%2fpeopleapi.readonly\n",
            "\n",
            "Enter your authorization code:\n",
            "··········\n",
            "Mounted at /content/drive\n"
          ],
          "name": "stdout"
        }
      ]
    },
    {
      "cell_type": "markdown",
      "metadata": {
        "id": "7CEDxHwbw9XZ",
        "colab_type": "text"
      },
      "source": [
        "## Get list of all files in IST718-Summer2020-Team"
      ]
    },
    {
      "cell_type": "code",
      "metadata": {
        "id": "-QJp5Aeiv9cj",
        "colab_type": "code",
        "colab": {}
      },
      "source": [
        "import os \n",
        "drive_path = 'drive/Shared drives/IST718-Summer2020-Team/'"
      ],
      "execution_count": null,
      "outputs": []
    },
    {
      "cell_type": "code",
      "metadata": {
        "id": "b_e9t9M5xxNs",
        "colab_type": "code",
        "colab": {}
      },
      "source": [
        "# function to create generator of absolute filepaths in a directory\n",
        "# param directory: absolute directory name\n",
        "# yields generator for absolute file paths\n",
        "def absoluteFilePaths(directory):\n",
        "    \"\"\"function to create a generator of absolute filepaths in a directory\n",
        "\n",
        "    Arguments:\n",
        "        directory {[str]} -- [absolute directory name]\n",
        "\n",
        "    Yields:\n",
        "        [generator] -- [generator for absolute file paths]\n",
        "    \"\"\"\n",
        "    for dirpath,_,filenames in os.walk(directory):\n",
        "       for f in filenames:\n",
        "           yield os.path.abspath(os.path.join(dirpath, f))\n",
        "\n",
        "# function to get list of absolute file paths from directory\n",
        "# param directory: absolute directory name\n",
        "# returns list of absolute file paths for specified folder\n",
        "def getFiles(directory):\n",
        "    \"\"\"function to recursively get list of absolute file paths from directory\n",
        "\n",
        "    Arguments:\n",
        "        directory {[str]} -- [absolute directory name]\n",
        "\n",
        "    Returns:\n",
        "        [list] -- [list of absolute file paths for specified folder]\n",
        "    \"\"\"\n",
        "    filelist = [f for f in absoluteFilePaths(directory)]\n",
        "    return filelist           "
      ],
      "execution_count": null,
      "outputs": []
    },
    {
      "cell_type": "code",
      "metadata": {
        "id": "0CLE4TlLx400",
        "colab_type": "code",
        "colab": {
          "base_uri": "https://localhost:8080/",
          "height": 71
        },
        "outputId": "01ea1b70-9f16-419d-a4b0-88469955f391"
      },
      "source": [
        "files = getFiles(drive_path)\n",
        "print(\"There are {:d} file(s) in the project Drive\\n\".format(len(files)))\n",
        "print([file for file in files])"
      ],
      "execution_count": null,
      "outputs": [
        {
          "output_type": "stream",
          "text": [
            "There are 1 file(s) in the project Drive\n",
            "\n",
            "['/content/drive/Shared drives/IST718-Summer2020-Team/IST718-Team-Contact-Info.gdoc']\n"
          ],
          "name": "stdout"
        }
      ]
    },
    {
      "cell_type": "code",
      "metadata": {
        "id": "1jXRThhHwLGb",
        "colab_type": "code",
        "colab": {}
      },
      "source": [
        ""
      ],
      "execution_count": null,
      "outputs": []
    }
  ]
}