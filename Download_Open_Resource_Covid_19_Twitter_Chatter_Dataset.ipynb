{
  "nbformat": 4,
  "nbformat_minor": 0,
  "metadata": {
    "colab": {
      "name": "Download Open Resource Covid-19 Twitter Chatter Dataset.ipynb",
      "provenance": [],
      "collapsed_sections": [],
      "authorship_tag": "ABX9TyP9NSM01G5Bj/p4U51u81Kn",
      "include_colab_link": true
    },
    "kernelspec": {
      "name": "python3",
      "display_name": "Python 3"
    }
  },
  "cells": [
    {
      "cell_type": "markdown",
      "metadata": {
        "id": "view-in-github",
        "colab_type": "text"
      },
      "source": [
        "<a href=\"https://colab.research.google.com/github/tbahng/IST718-FinalProject/blob/master/Download_Open_Resource_Covid_19_Twitter_Chatter_Dataset.ipynb\" target=\"_parent\"><img src=\"https://colab.research.google.com/assets/colab-badge.svg\" alt=\"Open In Colab\"/></a>"
      ]
    },
    {
      "cell_type": "markdown",
      "metadata": {
        "id": "94dhfD-6xweb",
        "colab_type": "text"
      },
      "source": [
        "# Download Open Resource Covid-19 Twitter Chatter Dataset\n",
        "## Author: Thomas Bahng\n",
        "## Date: August 8, 2020\n",
        "\n",
        "This notebook downloads the original data from source repository and writes the tweet IDs of english tweets created in 2020 to a text file.\n",
        "* data is the cleaned version with no retweets; original data only includes tweet ids which need to be hydrated\n",
        "* 'full_dataset-clean.tsv' file (142,360,288 unique tweets ids)\n",
        "* https://zenodo.org/record/3977558#.XzGTbUF7mUk"
      ]
    },
    {
      "cell_type": "code",
      "metadata": {
        "id": "_Zqyg5b9xtvY",
        "colab_type": "code",
        "colab": {
          "base_uri": "https://localhost:8080/",
          "height": 35
        },
        "outputId": "436c4102-a0dc-408c-8f72-7b0332e5a70d"
      },
      "source": [
        "# mount google drive\n",
        "from google.colab import drive\n",
        "drive.mount('/content/drive')"
      ],
      "execution_count": 1,
      "outputs": [
        {
          "output_type": "stream",
          "text": [
            "Drive already mounted at /content/drive; to attempt to forcibly remount, call drive.mount(\"/content/drive\", force_remount=True).\n"
          ],
          "name": "stdout"
        }
      ]
    },
    {
      "cell_type": "code",
      "metadata": {
        "id": "QNx5RyvozQPZ",
        "colab_type": "code",
        "colab": {
          "base_uri": "https://localhost:8080/",
          "height": 201
        },
        "outputId": "66328f58-1709-4591-966e-adde3db46d13"
      },
      "source": [
        "# set working directory + view files in directory\n",
        "import os\n",
        "#os.listdir('drive/Shared drives/IST718-Summer2020-Team')\n",
        "wd = 'drive/Shared drives/IST718-Summer2020-Team'\n",
        "os.listdir(wd)"
      ],
      "execution_count": 2,
      "outputs": [
        {
          "output_type": "execute_result",
          "data": {
            "text/plain": [
              "['Sample Colab Notebook.ipynb',\n",
              " '551982_1359228_bundle_archive.zip',\n",
              " 'Kaggle',\n",
              " 'Project Check in 1 Rubric.pdf',\n",
              " 'Project Check In 1 ROUGH DRAFT.docx',\n",
              " 'Group1-Section2-Week5ProjectCheckin-2020.docx',\n",
              " 'IST718-Team-Contact-Info.gdoc',\n",
              " 'Project Check In 2 ROUGH DRAFT.docx',\n",
              " 'Copy of Final Project Workbook .ipynb',\n",
              " 'Twitter']"
            ]
          },
          "metadata": {
            "tags": []
          },
          "execution_count": 2
        }
      ]
    },
    {
      "cell_type": "code",
      "metadata": {
        "id": "Skvlifnt7Bw-",
        "colab_type": "code",
        "colab": {}
      },
      "source": [
        "import requests\n",
        "# zenodo repository\n",
        "url = \"https://zenodo.org/record/3977558/files/full_dataset_clean.tsv.gz\"\n",
        "# destination filename\n",
        "filename = wd + '/Twitter/' + url.split(\"/\")[-1] "
      ],
      "execution_count": 3,
      "outputs": []
    },
    {
      "cell_type": "code",
      "metadata": {
        "id": "ZJtPkUNFzH1Z",
        "colab_type": "code",
        "colab": {
          "base_uri": "https://localhost:8080/",
          "height": 72
        },
        "outputId": "10a772fd-86dd-4584-b317-e645e69f8c73"
      },
      "source": [
        "%%time\n",
        "# download gz file from zenodo repository\n",
        "print(\"File being saved to: {:s}\".format(filename))\n",
        "with open(filename, \"wb\") as f:\n",
        "  r = requests.get(url)\n",
        "  f.write(r.content)"
      ],
      "execution_count": 4,
      "outputs": [
        {
          "output_type": "stream",
          "text": [
            "File being saved to: drive/Shared drives/IST718-Summer2020-Team/Twitter/full_dataset_clean.tsv.gz\n",
            "CPU times: user 4.12 s, sys: 4.12 s, total: 8.24 s\n",
            "Wall time: 32.4 s\n"
          ],
          "name": "stdout"
        }
      ]
    },
    {
      "cell_type": "code",
      "metadata": {
        "id": "ZtIYaaGH5Zfn",
        "colab_type": "code",
        "colab": {
          "base_uri": "https://localhost:8080/",
          "height": 54
        },
        "outputId": "586fc3aa-0782-4472-9e45-1c67e1dbd2b8"
      },
      "source": [
        "%%time\n",
        "import pandas as pd\n",
        "from tqdm import tqdm\n",
        "\n",
        "# read file in chunks of size 1000\n",
        "# there should be 143 iterations\n",
        "chunk_size = 1000000\n",
        "chunks = pd.read_csv(filename, compression = 'gzip', sep = '\\t', chunksize = chunk_size, iterator = True)"
      ],
      "execution_count": 5,
      "outputs": [
        {
          "output_type": "stream",
          "text": [
            "CPU times: user 9.5 ms, sys: 144 ms, total: 154 ms\n",
            "Wall time: 214 ms\n"
          ],
          "name": "stdout"
        }
      ]
    },
    {
      "cell_type": "code",
      "metadata": {
        "id": "DMNMqrrNGhha",
        "colab_type": "code",
        "colab": {
          "base_uri": "https://localhost:8080/",
          "height": 54
        },
        "outputId": "a8c48a09-200e-4383-cea4-43a070602b7a"
      },
      "source": [
        "%%time\n",
        "# collect all english tweets in 2020\n",
        "import json\n",
        "import bz2\n",
        "import gc\n",
        "\n",
        "# initialize list\n",
        "idx_list = []\n",
        "\n",
        "for chunk in chunks:\n",
        "  data = chunk \n",
        "  data['date'] = pd.to_datetime(data['date'])\n",
        "  data['year'] = [x.year for x in data['date']]\n",
        "  # filter for english language tweets created in 2020\n",
        "  data = data.loc[(data.lang == 'en') & (data.year == 2020),:]\n",
        "  idx_list.extend(data['tweet_id'])\n",
        "  del data\n",
        "  gc.collect()"
      ],
      "execution_count": 6,
      "outputs": [
        {
          "output_type": "stream",
          "text": [
            "CPU times: user 8min 52s, sys: 12.1 s, total: 9min 4s\n",
            "Wall time: 9min 5s\n"
          ],
          "name": "stdout"
        }
      ]
    },
    {
      "cell_type": "code",
      "metadata": {
        "id": "XDmaV7WzDRA8",
        "colab_type": "code",
        "colab": {
          "base_uri": "https://localhost:8080/",
          "height": 35
        },
        "outputId": "167ec24a-5472-42c4-d598-f612305146f6"
      },
      "source": [
        "print(\"There are a total of {:d} english tweets created in 2020\".format(len(idx_list)))"
      ],
      "execution_count": 8,
      "outputs": [
        {
          "output_type": "stream",
          "text": [
            "There are a total of 81083863 english tweets created in 2020\n"
          ],
          "name": "stdout"
        }
      ]
    },
    {
      "cell_type": "code",
      "metadata": {
        "id": "wjcLcjUSPpD6",
        "colab_type": "code",
        "colab": {
          "base_uri": "https://localhost:8080/",
          "height": 54
        },
        "outputId": "d00e77e5-6eb6-42f9-d440-734136fda34e"
      },
      "source": [
        "%%time\n",
        "# write to file\n",
        "fname = wd + '/Twitter/tweet_ids/english2020.txt'\n",
        "with open(fname, 'w') as f:\n",
        "    for item in idx_list:\n",
        "        f.write(\"%s\\n\" % item)"
      ],
      "execution_count": 13,
      "outputs": [
        {
          "output_type": "stream",
          "text": [
            "CPU times: user 31.1 s, sys: 1.52 s, total: 32.6 s\n",
            "Wall time: 40.3 s\n"
          ],
          "name": "stdout"
        }
      ]
    },
    {
      "cell_type": "code",
      "metadata": {
        "id": "Apgv7A9ZQspO",
        "colab_type": "code",
        "colab": {
          "base_uri": "https://localhost:8080/",
          "height": 54
        },
        "outputId": "59904ab0-13bd-43f6-a49e-cd891f801844"
      },
      "source": [
        "print(\"Tweet IDs saved to:\\n {:s}\".format(fname))"
      ],
      "execution_count": 15,
      "outputs": [
        {
          "output_type": "stream",
          "text": [
            "Tweet IDs saved to:\n",
            " drive/Shared drives/IST718-Summer2020-Team/Twitter/tweet_ids/english2020.txt\n"
          ],
          "name": "stdout"
        }
      ]
    },
    {
      "cell_type": "code",
      "metadata": {
        "id": "fpOVCBwERxbG",
        "colab_type": "code",
        "colab": {}
      },
      "source": [
        ""
      ],
      "execution_count": null,
      "outputs": []
    }
  ]
}