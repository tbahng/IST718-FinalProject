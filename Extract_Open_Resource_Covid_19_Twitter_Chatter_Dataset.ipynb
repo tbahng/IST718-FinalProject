{
  "nbformat": 4,
  "nbformat_minor": 0,
  "metadata": {
    "colab": {
      "name": "Extract Open Resource Covid-19 Twitter Chatter Dataset.ipynb",
      "provenance": [],
      "collapsed_sections": [],
      "authorship_tag": "ABX9TyObjHwmTg8/83YfSjRmdSaf",
      "include_colab_link": true
    },
    "kernelspec": {
      "name": "python3",
      "display_name": "Python 3"
    }
  },
  "cells": [
    {
      "cell_type": "markdown",
      "metadata": {
        "id": "view-in-github",
        "colab_type": "text"
      },
      "source": [
        "<a href=\"https://colab.research.google.com/github/tbahng/IST718-FinalProject/blob/master/Extract_Open_Resource_Covid_19_Twitter_Chatter_Dataset.ipynb\" target=\"_parent\"><img src=\"https://colab.research.google.com/assets/colab-badge.svg\" alt=\"Open In Colab\"/></a>"
      ]
    },
    {
      "cell_type": "markdown",
      "metadata": {
        "id": "94dhfD-6xweb",
        "colab_type": "text"
      },
      "source": [
        "# Extract Open Resource Covid-19 Twitter Chatter Dataset\n",
        "## Author: Thomas Bahng\n",
        "## Date: August 8, 2020\n",
        "* cleaned version with no retweets\n",
        "* 'full_dataset-clean.tsv' file (142,360,288 unique tweets)\n",
        "* https://zenodo.org/record/3977558#.XzGTbUF7mUk"
      ]
    },
    {
      "cell_type": "code",
      "metadata": {
        "id": "_Zqyg5b9xtvY",
        "colab_type": "code",
        "colab": {
          "base_uri": "https://localhost:8080/",
          "height": 35
        },
        "outputId": "b5ecde6d-58d1-402f-c81c-821a19c83e12"
      },
      "source": [
        "# mount google drive\n",
        "from google.colab import drive\n",
        "drive.mount('/content/drive')"
      ],
      "execution_count": 1,
      "outputs": [
        {
          "output_type": "stream",
          "text": [
            "Drive already mounted at /content/drive; to attempt to forcibly remount, call drive.mount(\"/content/drive\", force_remount=True).\n"
          ],
          "name": "stdout"
        }
      ]
    },
    {
      "cell_type": "code",
      "metadata": {
        "id": "QNx5RyvozQPZ",
        "colab_type": "code",
        "colab": {
          "base_uri": "https://localhost:8080/",
          "height": 201
        },
        "outputId": "52dbfb73-a403-49b8-dc31-f0e16a1843b8"
      },
      "source": [
        "# set working directory + view files in directory\n",
        "import os\n",
        "#os.listdir('drive/Shared drives/IST718-Summer2020-Team')\n",
        "wd = 'drive/Shared drives/IST718-Summer2020-Team'\n",
        "os.listdir(wd)"
      ],
      "execution_count": 2,
      "outputs": [
        {
          "output_type": "execute_result",
          "data": {
            "text/plain": [
              "['Sample Colab Notebook.ipynb',\n",
              " '551982_1359228_bundle_archive.zip',\n",
              " 'Kaggle',\n",
              " 'Project Check in 1 Rubric.pdf',\n",
              " 'Project Check In 1 ROUGH DRAFT.docx',\n",
              " 'Group1-Section2-Week5ProjectCheckin-2020.docx',\n",
              " 'IST718-Team-Contact-Info.gdoc',\n",
              " 'Project Check In 2 ROUGH DRAFT.docx',\n",
              " 'Copy of Final Project Workbook .ipynb',\n",
              " 'Twitter']"
            ]
          },
          "metadata": {
            "tags": []
          },
          "execution_count": 2
        }
      ]
    },
    {
      "cell_type": "code",
      "metadata": {
        "id": "Skvlifnt7Bw-",
        "colab_type": "code",
        "colab": {}
      },
      "source": [
        "import requests\n",
        "# zenodo repository\n",
        "url = \"https://zenodo.org/record/3977558/files/full_dataset_clean.tsv.gz\"\n",
        "# destination filename\n",
        "filename = wd + '/Twitter/' + url.split(\"/\")[-1] "
      ],
      "execution_count": 3,
      "outputs": []
    },
    {
      "cell_type": "code",
      "metadata": {
        "id": "ZJtPkUNFzH1Z",
        "colab_type": "code",
        "colab": {
          "base_uri": "https://localhost:8080/",
          "height": 54
        },
        "outputId": "520fba09-d96c-4578-d1a3-fdd985f8d9e4"
      },
      "source": [
        "%%time\n",
        "# download gz file from zenodo repository\n",
        "print(\"File being saved to: {:s}\".format(filename))\n",
        "with open(filename, \"wb\") as f:s\n",
        "    r = requests.get(url)\n",
        "    f.write(r.content)"
      ],
      "execution_count": 4,
      "outputs": [
        {
          "output_type": "stream",
          "text": [
            "CPU times: user 2 µs, sys: 0 ns, total: 2 µs\n",
            "Wall time: 7.15 µs\n"
          ],
          "name": "stdout"
        }
      ]
    },
    {
      "cell_type": "code",
      "metadata": {
        "id": "ZtIYaaGH5Zfn",
        "colab_type": "code",
        "colab": {}
      },
      "source": [
        ""
      ],
      "execution_count": null,
      "outputs": []
    }
  ]
}